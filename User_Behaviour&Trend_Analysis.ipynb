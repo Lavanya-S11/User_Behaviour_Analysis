{
 "cells": [
  {
   "cell_type": "code",
   "execution_count": 2,
   "id": "39bce767",
   "metadata": {},
   "outputs": [],
   "source": [
    "import pandas as pd\n",
    "import numpy as np\n",
    "from pandas import DataFrame,Series"
   ]
  },
  {
   "cell_type": "code",
   "execution_count": 8,
   "id": "28a1230b",
   "metadata": {},
   "outputs": [
    {
     "name": "stdout",
     "output_type": "stream",
     "text": [
      "  User ID      User Name  Age  Location Registration Date         Phone  \\\n",
      "0    U001  Alice Johnson   28  New York  15-01-2023 00:00  123-456-7890   \n",
      "1    U001  Alice Johnson   28  New York  15-01-2023 00:00  123-456-7890   \n",
      "2    U001  Alice Johnson   28  New York  15-01-2023 00:00  123-456-7890   \n",
      "3    U001  Alice Johnson   28  New York  15-01-2023 00:00  123-456-7890   \n",
      "4    U001  Alice Johnson   28  New York  15-01-2023 00:00  123-456-7890   \n",
      "\n",
      "             Email Favourite Meal  Total Orders Session ID  ... Order ID  \\\n",
      "0  alice@email.com         Dinner            12       S001  ...   1001.0   \n",
      "1  alice@email.com         Dinner            12       S001  ...   1004.0   \n",
      "2  alice@email.com         Dinner            12       S001  ...   1009.0   \n",
      "3  alice@email.com         Dinner            12       S004  ...   1001.0   \n",
      "4  alice@email.com         Dinner            12       S004  ...   1004.0   \n",
      "\n",
      "  User ID.2        Order Date Meal Type.1      Dish Name.1  Order Status  \\\n",
      "0      U001  01-12-2024 00:00      Dinner        Spaghetti     Completed   \n",
      "1      U001  02-12-2024 00:00   Breakfast         Pancakes     Completed   \n",
      "2      U001  05-12-2024 00:00      Dinner  Grilled Chicken     Completed   \n",
      "3      U001  01-12-2024 00:00      Dinner        Spaghetti     Completed   \n",
      "4      U001  02-12-2024 00:00   Breakfast         Pancakes     Completed   \n",
      "\n",
      "   Amount (USD)  Time of Day Rating Session ID.1  \n",
      "0          15.0        Night    5.0         S001  \n",
      "1           8.0      Morning    4.0         S004  \n",
      "2          12.0        Night    5.0         S009  \n",
      "3          15.0        Night    5.0         S001  \n",
      "4           8.0      Morning    4.0         S004  \n",
      "\n",
      "[5 rows x 27 columns]\n"
     ]
    }
   ],
   "source": [
    "user_data = pd.read_csv(\"C:/Users/HP/Downloads/User_data.csv\")\n",
    "print(csv_data.head())"
   ]
  },
  {
   "cell_type": "code",
   "execution_count": 10,
   "id": "9c9e1330",
   "metadata": {},
   "outputs": [
    {
     "name": "stdout",
     "output_type": "stream",
     "text": [
      "Index(['User ID', 'User Name', 'Age', 'Location', 'Registration Date', 'Phone',\n",
      "       'Email', 'Favourite Meal', 'Total Orders', 'Session ID', 'User ID.1',\n",
      "       'Dish Name', 'Meal Type', 'Session Start', 'Session End',\n",
      "       'Duration (mins)', 'Session Rating', 'Order ID', 'User ID.2',\n",
      "       'Order Date', 'Meal Type.1', 'Dish Name.1', 'Order Status',\n",
      "       'Amount (USD)', 'Time of Day', 'Rating', 'Session ID.1'],\n",
      "      dtype='object')\n"
     ]
    }
   ],
   "source": [
    "print(user_data.columns)"
   ]
  },
  {
   "cell_type": "code",
   "execution_count": 13,
   "id": "14e3521a",
   "metadata": {},
   "outputs": [
    {
     "name": "stdout",
     "output_type": "stream",
     "text": [
      "User ID              0\n",
      "User Name            0\n",
      "Age                  0\n",
      "Location             0\n",
      "Registration Date    0\n",
      "Phone                0\n",
      "Email                0\n",
      "Favourite Meal       0\n",
      "Total Orders         0\n",
      "Session ID           2\n",
      "User ID.1            2\n",
      "Dish Name            2\n",
      "Meal Type            2\n",
      "Session Start        2\n",
      "Session End          2\n",
      "Duration (mins)      2\n",
      "Session Rating       2\n",
      "Order ID             2\n",
      "User ID.2            2\n",
      "Order Date           2\n",
      "Meal Type.1          2\n",
      "Dish Name.1          2\n",
      "Order Status         2\n",
      "Amount (USD)         2\n",
      "Time of Day          2\n",
      "Rating               2\n",
      "Session ID.1         2\n",
      "dtype: int64\n"
     ]
    }
   ],
   "source": [
    "print(user_data.isnull().sum())\n",
    "user_data.fillna(\"Unknown\", inplace=True)"
   ]
  },
  {
   "cell_type": "code",
   "execution_count": 14,
   "id": "6fff1230",
   "metadata": {},
   "outputs": [
    {
     "name": "stdout",
     "output_type": "stream",
     "text": [
      "0\n"
     ]
    }
   ],
   "source": [
    "print(user_data.duplicated().sum())\n",
    "user_data.drop_duplicates(inplace=True)"
   ]
  },
  {
   "cell_type": "code",
   "execution_count": 50,
   "id": "79dc4eaf",
   "metadata": {},
   "outputs": [],
   "source": [
    "user_data['Registration Date'] = pd.to_datetime(user_data['Registration Date'], errors='coerce')\n",
    "user_data['Order Date'] = pd.to_datetime(user_data['Order Date'], errors='coerce')\n",
    "\n",
    "user_data['Session Rating'] = pd.to_numeric(user_data['Session Rating'], errors='coerce')\n",
    "user_data['Amount (USD)'] = pd.to_numeric(user_data['Amount (USD)'], errors='coerce')\n",
    "user_data['Rating'] = pd.to_numeric(user_data['Rating'], errors='coerce')"
   ]
  },
  {
   "cell_type": "code",
   "execution_count": 35,
   "id": "464b6fab",
   "metadata": {},
   "outputs": [
    {
     "name": "stdout",
     "output_type": "stream",
     "text": [
      "Total unique users: 10\n"
     ]
    }
   ],
   "source": [
    "##Unique Users\n",
    "unique_users = user_data['User ID'].nunique()\n",
    "print(f\"Total unique users: {unique_users}\")"
   ]
  },
  {
   "cell_type": "code",
   "execution_count": 36,
   "id": "250bb496",
   "metadata": {},
   "outputs": [
    {
     "name": "stdout",
     "output_type": "stream",
     "text": [
      "Top 5 Dishes:\n",
      " Spaghetti          9\n",
      "Grilled Chicken    9\n",
      "Caesar Salad       7\n",
      "Pancakes           6\n",
      "Veggie Burger      4\n",
      "Name: Dish Name, dtype: int64\n"
     ]
    }
   ],
   "source": [
    "##Top 5 Dishes\n",
    "top_dishes = user_data['Dish Name'].value_counts().head(5)\n",
    "print(\"Top 5 Dishes:\\n\", top_dishes)"
   ]
  },
  {
   "cell_type": "code",
   "execution_count": 37,
   "id": "cc9d8c5d",
   "metadata": {},
   "outputs": [
    {
     "name": "stdout",
     "output_type": "stream",
     "text": [
      "Total Revenue: $420.0\n"
     ]
    }
   ],
   "source": [
    "##Total revenue\n",
    "total_revenue = user_data['Amount (USD)'].sum()\n",
    "print(f\"Total Revenue: ${total_revenue}\")"
   ]
  },
  {
   "cell_type": "code",
   "execution_count": 38,
   "id": "298de292",
   "metadata": {},
   "outputs": [
    {
     "name": "stdout",
     "output_type": "stream",
     "text": [
      "Orders by Time of Day:\n",
      " Night      18\n",
      "Day        11\n",
      "Morning     9\n",
      "Unknown     2\n",
      "Name: Time of Day, dtype: int64\n"
     ]
    }
   ],
   "source": [
    "##Time based analysis\n",
    "orders_by_time = user_data['Time of Day'].value_counts()\n",
    "print(\"Orders by Time of Day:\\n\", orders_by_time)"
   ]
  },
  {
   "cell_type": "code",
   "execution_count": 39,
   "id": "fca9f9b4",
   "metadata": {},
   "outputs": [
    {
     "name": "stdout",
     "output_type": "stream",
     "text": [
      "Average Session Rating: 4.48157894736842\n"
     ]
    }
   ],
   "source": [
    "##Average Session Rating\n",
    "avg_session_rating = user_data['Session Rating'].mean()\n",
    "print(f\"Average Session Rating: {avg_session_rating}\")"
   ]
  },
  {
   "cell_type": "code",
   "execution_count": 45,
   "id": "aa5f9872",
   "metadata": {},
   "outputs": [
    {
     "data": {
      "image/png": "[encoded data removed]",
      "text/plain": [
       "<Figure size 640x480 with 1 Axes>"
      ]
     },
     "metadata": {},
     "output_type": "display_data"
    }
   ],
   "source": [
    "import matplotlib.pyplot as plt\n",
    "import seaborn as sns\n",
    "\n",
    "#Visualization of orders by meal type\n",
    "sns.countplot(x='Meal Type', data=user_data)\n",
    "plt.title(\"Orders by Meal Type\")\n",
    "plt.show()"
   ]
  },
  {
   "cell_type": "code",
   "execution_count": 46,
   "id": "880a80ae",
   "metadata": {},
   "outputs": [
    {
     "data": {
      "image/png": "[encoded data removed]",
      "text/plain": [
       "<Figure size 640x480 with 1 Axes>"
      ]
     },
     "metadata": {},
     "output_type": "display_data"
    }
   ],
   "source": [
    "##Revenue by meal of day\n",
    "revenue_time = user_data.groupby('Time of Day')['Amount (USD)'].sum()\n",
    "revenue_time.plot(kind='bar')\n",
    "plt.title(\"Revenue by Time of Day\")\n",
    "plt.ylabel(\"Revenue (USD)\")\n",
    "plt.show()"
   ]
  },
  {
   "cell_type": "code",
   "execution_count": 51,
   "id": "f07d6ff3",
   "metadata": {},
   "outputs": [
    {
     "name": "stdout",
     "output_type": "stream",
     "text": [
      "Meal Type\n",
      "Breakfast    3.333333\n",
      "Dinner       3.888889\n",
      "Lunch        3.272727\n",
      "Unknown           NaN\n",
      "Name: Rating, dtype: float64\n"
     ]
    }
   ],
   "source": [
    "##Average rating per meal type\n",
    "avg_rating_meal = user_data.groupby('Meal Type')['Rating'].mean()\n",
    "print(avg_rating_meal)"
   ]
  },
  {
   "cell_type": "code",
   "execution_count": 52,
   "id": "c1c7f732",
   "metadata": {},
   "outputs": [
    {
     "name": "stdout",
     "output_type": "stream",
     "text": [
      "         Amount (USD)\n",
      "User ID              \n",
      "U001            105.0\n",
      "U002             93.0\n",
      "U003             96.0\n",
      "U004             43.0\n",
      "U005             45.0\n",
      "U006             13.0\n",
      "U007             14.0\n",
      "U008             11.0\n",
      "U009              0.0\n",
      "U010              0.0\n"
     ]
    }
   ],
   "source": [
    "##Pivot Table for User Orders\n",
    "user_order_summary = user_data.pivot_table(index='User ID', values='Amount (USD)', aggfunc='sum')\n",
    "print(user_order_summary)"
   ]
  },
  {
   "cell_type": "code",
   "execution_count": null,
   "id": "e0658849",
   "metadata": {},
   "outputs": [],
   "source": []
  }
 ],
 "metadata": {
  "kernelspec": {
   "display_name": "Python 3 (ipykernel)",
   "language": "python",
   "name": "python3"
  },
  "language_info": {
   "codemirror_mode": {
    "name": "ipython",
    "version": 3
   },
   "file_extension": ".py",
   "mimetype": "text/x-python",
   "name": "python",
   "nbconvert_exporter": "python",
   "pygments_lexer": "ipython3",
   "version": "3.9.13"
  }
 },
 "nbformat": 4,
 "nbformat_minor": 5
}
